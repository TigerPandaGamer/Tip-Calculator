{
 "cells": [
  {
   "cell_type": "code",
   "execution_count": 1,
   "id": "991fb46d",
   "metadata": {},
   "outputs": [
    {
     "name": "stdout",
     "output_type": "stream",
     "text": [
      "What is the cost of your dinner?100\n"
     ]
    }
   ],
   "source": [
    "cost=input('What is the cost of your dinner?')#1. please insert number"
   ]
  },
  {
   "cell_type": "code",
   "execution_count": 3,
   "id": "81b0f1e6",
   "metadata": {},
   "outputs": [
    {
     "name": "stdout",
     "output_type": "stream",
     "text": [
      "How much do you want to tip?.20\n"
     ]
    }
   ],
   "source": [
    "quality=input('How much do you want to tip?')#2. Please use a decimal"
   ]
  },
  {
   "cell_type": "code",
   "execution_count": null,
   "id": "e2daa1ed",
   "metadata": {
    "collapsed": true
   },
   "outputs": [],
   "source": []
  },
  {
   "cell_type": "code",
   "execution_count": null,
   "id": "cba6e8c1",
   "metadata": {},
   "outputs": [],
   "source": []
  }
 ],
 "metadata": {
  "kernelspec": {
   "display_name": "Python 3 (ipykernel)",
   "language": "python",
   "name": "python3"
  },
  "language_info": {
   "codemirror_mode": {
    "name": "ipython",
    "version": 3
   },
   "file_extension": ".py",
   "mimetype": "text/x-python",
   "name": "python",
   "nbconvert_exporter": "python",
   "pygments_lexer": "ipython3",
   "version": "3.9.12"
  }
 },
 "nbformat": 4,
 "nbformat_minor": 5
}
