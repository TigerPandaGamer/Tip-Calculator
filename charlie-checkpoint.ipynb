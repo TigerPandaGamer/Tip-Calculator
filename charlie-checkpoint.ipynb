{
 "cells": [
  {
   "cell_type": "code",
   "execution_count": null,
   "id": "991fb46d",
   "metadata": {},
   "outputs": [],
   "source": [
    "cost=input('What is the cost of your dinner?')#1. please insert number"
   ]
  },
  {
   "cell_type": "code",
   "execution_count": null,
   "id": "81b0f1e6",
   "metadata": {},
   "outputs": [],
   "source": [
    "cost\n"
   ]
  },
  {
   "cell_type": "code",
   "execution_count": null,
   "id": "e2daa1ed",
   "metadata": {},
   "outputs": [],
   "source": [
    "int(cost)\n",
    "      "
   ]
  },
  {
   "cell_type": "code",
   "execution_count": null,
   "id": "cba6e8c1",
   "metadata": {},
   "outputs": [],
   "source": [
    "tip=input('What percent do you want to tip?')"
   ]
  },
  {
   "cell_type": "code",
   "execution_count": null,
   "id": "7eb53ec6",
   "metadata": {},
   "outputs": [],
   "source": [
    "float(tip)"
   ]
  },
  {
   "cell_type": "code",
   "execution_count": null,
   "id": "9ee5c0ca",
   "metadata": {},
   "outputs": [],
   "source": [
    "print('Your tip amount is', float(tip)*int(cost))"
   ]
  },
  {
   "cell_type": "code",
   "execution_count": null,
   "id": "67431eb7",
   "metadata": {},
   "outputs": [],
   "source": [
    "cost2=int(cost)"
   ]
  },
  {
   "cell_type": "code",
   "execution_count": null,
   "id": "2d3a5e5a",
   "metadata": {},
   "outputs": [],
   "source": [
    "tip2=float(tip)"
   ]
  },
  {
   "cell_type": "code",
   "execution_count": null,
   "id": "77702718",
   "metadata": {},
   "outputs": [],
   "source": [
    "totalpay=tip2*cost2"
   ]
  },
  {
   "cell_type": "code",
   "execution_count": null,
   "id": "28a087f7",
   "metadata": {},
   "outputs": [],
   "source": [
    "print(totalpay)"
   ]
  }
 ],
 "metadata": {
  "kernelspec": {
   "display_name": "Python 3 (ipykernel)",
   "language": "python",
   "name": "python3"
  },
  "language_info": {
   "codemirror_mode": {
    "name": "ipython",
    "version": 3
   },
   "file_extension": ".py",
   "mimetype": "text/x-python",
   "name": "python",
   "nbconvert_exporter": "python",
   "pygments_lexer": "ipython3",
   "version": "3.9.12"
  }
 },
 "nbformat": 4,
 "nbformat_minor": 5
}
